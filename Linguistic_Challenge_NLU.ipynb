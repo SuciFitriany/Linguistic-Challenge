{
  "nbformat": 4,
  "nbformat_minor": 0,
  "metadata": {
    "colab": {
      "provenance": [],
      "authorship_tag": "ABX9TyM/o0CXPznYX+TrnMihDp/A",
      "include_colab_link": true
    },
    "kernelspec": {
      "name": "python3",
      "display_name": "Python 3"
    },
    "language_info": {
      "name": "python"
    }
  },
  "cells": [
    {
      "cell_type": "markdown",
      "metadata": {
        "id": "view-in-github",
        "colab_type": "text"
      },
      "source": [
        "<a href=\"https://colab.research.google.com/github/SuciFitriany/Linguistic-Challenge/blob/main/Linguistic_Challenge_NLU.ipynb\" target=\"_parent\"><img src=\"https://colab.research.google.com/assets/colab-badge.svg\" alt=\"Open In Colab\"/></a>"
      ]
    },
    {
      "cell_type": "code",
      "execution_count": null,
      "metadata": {
        "id": "XYjnDZ7065TC"
      },
      "outputs": [],
      "source": [
        "* Linguistics Challenge for Indonesian NLU Consultant position\n",
        "  * by Suci Fitriany\n",
        "  * 2023-04-26\n",
        "  \n",
        "*1.1 Extend the English JSGF grammar to cover at least the following utterances:\n",
        "  *[i want to listen to]<unk> [jazz]<genre> [music]<unk>\n",
        "  *[play me]<unk> [ummagumma]<album> [by]<unk> [pink floyd]<artist>\n",
        "  *[put]<unk> [lady gaga]<artist> [on]<unk>\n",
        "\n",
        "grammar music_play;\n",
        "\n",
        "\n",
        "public <music_play> =\n",
        "\t(<musicCommand> | <musicIntent>) ([<album> by] <artist> | <song> | [some] <genre> [music]) [please];\n",
        "\n",
        "\n",
        "// action rules\n",
        "\n",
        "<musicCommand> =\n",
        "\t[can you | could you] [please] (play [me | us]| put on);\n",
        "\n",
        "\n",
        "<musicIntent> = \n",
        "\t[i | we] (want | would like | d like) to (listen [to]| hear);\n",
        "\n",
        "\n",
        "// music object rules \n",
        "\n",
        "<artist> =\n",
        "\tbeatles |\n",
        "\tradio head |\n",
        "\tcake |\n",
        "\tpink floyd;\n",
        "\n",
        "<song> =\n",
        "\tcomfortably numb |\n",
        "\tparanoid android |\n",
        "\tlet it be |\n",
        "\they jude;\n",
        "\n",
        "<genre> =\n",
        "\tjazz |\n",
        "\trock |\n",
        "\tpop |\n",
        "\tmetal |\n",
        "\tclassic;\n",
        "\n",
        "<album> =\n",
        "\tummagumma |\n",
        "\tlet it be;"
      ]
    }
  ]
}